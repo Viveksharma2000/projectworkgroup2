{
 "cells": [
  {
   "cell_type": "markdown",
   "id": "8a0b1c5b",
   "metadata": {},
   "source": [
    "# <font color='blue'> <u> Project Topic 01 Tic Tac Toe Game </u> </font>"
   ]
  },
  {
   "cell_type": "markdown",
   "id": "306e8960",
   "metadata": {},
   "source": [
    "## <font color='green'> <u> Group 2 - Team Members </u> </font>\n",
    "### 1. Vivek Sharma\n",
    "### 2. Muhammad Zaid\n",
    "### 3. Dang Ngoc Tai Tran\n",
    "### 4. Munasinghe Arachchige Chandina Nilukshi\n",
    "### 5. Malinda Bandara Weragama Kahanda Walawwe"
   ]
  },
  {
   "attachments": {},
   "cell_type": "markdown",
   "id": "b4c272db",
   "metadata": {},
   "source": [
    "## <font color='green'> Our goal is to create a simple and interactive Tic-Tac-Toe game with user interface (UI) in Jupyter notebook. </font>\n",
    "## <font color='green'> The game should allow two players to make moves, detect a winner, and end with a clear result. </font>"
   ]
  },
  {
   "cell_type": "markdown",
   "id": "9849cc23",
   "metadata": {},
   "source": [
    "Import the module for UI development as belows"
   ]
  },
  {
   "cell_type": "code",
   "execution_count": 1,
   "id": "6f48aa6a",
   "metadata": {},
   "outputs": [],
   "source": [
    "import tkinter as tk"
   ]
  },
  {
   "cell_type": "markdown",
   "id": "cbb8ba1a",
   "metadata": {},
   "source": [
    "This is used to get the message box to print the result"
   ]
  },
  {
   "cell_type": "code",
   "execution_count": 2,
   "id": "2fda99d3",
   "metadata": {},
   "outputs": [],
   "source": [
    "from tkinter import messagebox\n",
    "from tkinter import scrolledtext\n",
    "import markdown"
   ]
  },
  {
   "cell_type": "markdown",
   "id": "b2edcad4",
   "metadata": {},
   "source": [
    "Create the board and, to place the buttons correctly we use two loops"
   ]
  },
  {
   "cell_type": "code",
   "execution_count": 3,
   "id": "4a6e517c",
   "metadata": {},
   "outputs": [],
   "source": [
    "def create_board(master, on_button_click):\n",
    "    \n",
    "    buttons = [[None]*3 for _ in range(3)]\n",
    "    for i in range(3):\n",
    "        for j in range(3):\n",
    "            buttons[i][j] = tk.Button(master, text=\"\", width=8, height=3,\n",
    "                                       font=('Times New Roman', 20, 'bold'),\n",
    "                                       command=lambda row=i, col=j: on_button_click(row, col))\n",
    "            buttons[i][j].grid(row=i, column=j, padx=5, pady=5)\n",
    "    return buttons"
   ]
  },
  {
   "cell_type": "markdown",
   "id": "1598d219",
   "metadata": {},
   "source": [
    "It places \"X\" or \"O\" inside the button depending on the current player. In this function, the function to check the winner, function to check if it a tie and reset the board  and if the game isn't ended yet the function to switch player is executed."
   ]
  },
  {
   "cell_type": "code",
   "execution_count": 4,
   "id": "aec2d6fe",
   "metadata": {},
   "outputs": [],
   "source": [
    "def on_button_click(row, col):\n",
    "    if buttons[row][col]['text'] == \"\":\n",
    "        buttons[row][col]['text'] = current_player\n",
    "        board[row][col] = current_player\n",
    "        if check_winner(row, col):\n",
    "            messagebox.showinfo(\"Result\", f\"{current_player} Wins The Game Congratulations !!! \")\n",
    "            reset_game()\n",
    "        elif check_tie():\n",
    "            messagebox.showinfo(\"Result\", \"It's a tie! Try Again\")\n",
    "            reset_game()\n",
    "        else:\n",
    "            switch_player()\n"
   ]
  },
  {
   "cell_type": "markdown",
   "id": "a37fb3e6",
   "metadata": {},
   "source": [
    "This is the function to check the winner."
   ]
  },
  {
   "cell_type": "code",
   "execution_count": 5,
   "id": "1be3335a",
   "metadata": {},
   "outputs": [],
   "source": [
    "def check_winner(row, col):\n",
    "\n",
    "    if all(board[row][i] == current_player for i in range(3)):\n",
    "        return True\n",
    "\n",
    "    if all(board[i][col] == current_player for i in range(3)):\n",
    "        return True\n",
    "\n",
    "    if all(board[i][i] == current_player for i in range(3)):\n",
    "        return True\n",
    "\n",
    "    if all(board[i][2 - i] == current_player for i in range(3)):\n",
    "        return True\n",
    "    return False"
   ]
  },
  {
   "cell_type": "markdown",
   "id": "4cf1aa60",
   "metadata": {},
   "source": [
    "This is a function to check if it is a tie."
   ]
  },
  {
   "cell_type": "code",
   "execution_count": 6,
   "id": "97c8e661",
   "metadata": {},
   "outputs": [],
   "source": [
    "def check_tie():\n",
    "    return all(board[i][j] != ' ' for i in range(3) for j in range(3))"
   ]
  },
  {
   "cell_type": "markdown",
   "id": "5a72c072",
   "metadata": {},
   "source": [
    "This is the function to switch the player."
   ]
  },
  {
   "cell_type": "code",
   "execution_count": 7,
   "id": "e7d5f91b",
   "metadata": {},
   "outputs": [],
   "source": [
    "def switch_player():\n",
    "    global current_player\n",
    "    if current_player == \"xXx\":\n",
    "        current_player = \"OoO\"\n",
    "    else:\n",
    "        current_player = \"xXx\""
   ]
  },
  {
   "cell_type": "markdown",
   "id": "1d6d5170",
   "metadata": {},
   "source": [
    "This is the function to reset the game by clearing the board."
   ]
  },
  {
   "cell_type": "code",
   "execution_count": 8,
   "id": "031a4294",
   "metadata": {},
   "outputs": [],
   "source": [
    "def reset_game():\n",
    "    for i in range(3):\n",
    "        for j in range(3):\n",
    "            buttons[i][j]['text'] = \"\"\n",
    "            board[i][j] = \" \"\n",
    "    switch_player()\n"
   ]
  },
  {
   "cell_type": "markdown",
   "id": "abe2f105",
   "metadata": {},
   "source": [
    "This is the function that set up the GUI window including text box."
   ]
  },
  {
   "cell_type": "code",
   "execution_count": 9,
   "id": "42e95da3",
   "metadata": {},
   "outputs": [],
   "source": [
    "def main():\n",
    "    global buttons, board, current_player\n",
    "    \n",
    "    root = tk.Tk()\n",
    "    root.title(\"Tic-Tac-Toe Game By Group 2\")\n",
    "    root.resizable(width=False, height=False)\n",
    "    root.geometry(\"450x560\")\n",
    "    \n",
    "    frame = tk.Frame(root)\n",
    "    frame.grid()\n",
    "    \n",
    "    current_player = \"xXx\"\n",
    "    board = [[' ']*3 for _ in range(3)]\n",
    "    buttons = create_board(frame, on_button_click)\n",
    "    markdown_text = \"\"\"\n",
    "    \n",
    "Project Assignment by Group 2 \n",
    "Tic Tac Toe Game with User Interface in Jupyter notebook\n",
    "Created by\n",
    "1. Vivek Sharma\n",
    "2. Muhammad Zaid\n",
    "3. Dang Ngoc Tai Tran\n",
    "4. Munasinghe Arachchige Chandina Nilukshi\n",
    "5. Malinda Bandara Weragama Kahanda Walawwe\n",
    "Special Thank for Teacher Melinda Varo\n",
    "\n",
    "\"\"\"\n",
    "    html_text = markdown.markdown(markdown_text)\n",
    "    \n",
    "    text_widget = tk.Text(root, width=52, height=10)\n",
    "    text_widget.insert(tk.END, html_text)\n",
    "    text_widget.configure(state='disabled')\n",
    "    text_widget.grid(row=4, column=0)\n",
    "    \n",
    "\n",
    "    \n",
    "    root.mainloop()\n",
    "\n"
   ]
  },
  {
   "cell_type": "markdown",
   "id": "5a384a84",
   "metadata": {},
   "source": [
    "This code ensures that the script is run directly."
   ]
  },
  {
   "cell_type": "code",
   "execution_count": 10,
   "id": "ab018327",
   "metadata": {},
   "outputs": [],
   "source": [
    "if __name__ == \"__main__\":\n",
    "    main()"
   ]
  },
  {
   "cell_type": "markdown",
   "id": "95dbab63",
   "metadata": {},
   "source": [
    "# <font color='blue'> <u> Implementation: </u> </font>\n",
    "\n",
    "### <font color='green'> We plan to use functions to handle different aspects of the game, such as printing the board, checking for a winner, and determining a tie. The game loop will allow players to make moves until there is a winner or a tie, and the final result will be clearly displayed. </font>"
   ]
  },
  {
   "cell_type": "markdown",
   "id": "39213ac1",
   "metadata": {},
   "source": [
    "# <font color='blue'> <u> Conclusion: </u> </font>\n",
    "\n",
    "### <font color='green'> The Tic-Tac-Toe game with user interface is now completed ! It provides a simple and interactive experience for two players.</font>\n",
    "\n",
    "### <font color='green'> The code checks for winning conditions and ties, making it a fully functional game. </font>"
   ]
  }
 ],
 "metadata": {
  "kernelspec": {
   "display_name": "Python 3 (ipykernel)",
   "language": "python",
   "name": "python3"
  },
  "language_info": {
   "codemirror_mode": {
    "name": "ipython",
    "version": 3
   },
   "file_extension": ".py",
   "mimetype": "text/x-python",
   "name": "python",
   "nbconvert_exporter": "python",
   "pygments_lexer": "ipython3",
   "version": "3.11.5"
  }
 },
 "nbformat": 4,
 "nbformat_minor": 5
}
